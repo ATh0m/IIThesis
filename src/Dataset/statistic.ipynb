{
 "cells": [
  {
   "cell_type": "markdown",
   "metadata": {},
   "source": [
    "### Import packages"
   ]
  },
  {
   "cell_type": "code",
   "execution_count": 1,
   "metadata": {
    "collapsed": false,
    "inputHidden": false,
    "outputHidden": false
   },
   "outputs": [],
   "source": [
    "import numpy as np\n",
    "import matplotlib.pyplot as plt\n",
    "from matplotlib.gridspec import GridSpec\n",
    "import ipywidgets as widgets\n",
    "\n",
    "import os\n",
    "from random import shuffle\n",
    "from PIL import Image\n",
    "import h5py\n",
    "\n",
    "import seaborn as sns\n",
    "sns.set(style=\"ticks\")"
   ]
  },
  {
   "cell_type": "code",
   "execution_count": 2,
   "metadata": {},
   "outputs": [],
   "source": [
    "import torch\n",
    "from torch.utils.data import Dataset, DataLoader\n",
    "from torch.utils.data.sampler import SequentialSampler, SubsetRandomSampler"
   ]
  },
  {
   "cell_type": "markdown",
   "metadata": {},
   "source": [
    "### Parameters"
   ]
  },
  {
   "cell_type": "code",
   "execution_count": 3,
   "metadata": {},
   "outputs": [],
   "source": [
    "# MEDICAL_DATA = '/pio/lscratch/1/i279076/Medical/medical.h5'\n",
    "# OUTPUT = '/pio/lscratch/1/i279076/Medical/small-medical-{}.h5'\n",
    "\n",
    "MEDICAL_DATA = '/home/ath0m/Desktop/medical.h5'\n",
    "OUTPUT = '/home/ath0m/Desktop/small-medical-{}.h5'\n",
    "\n",
    "BATCH_SIZE = 1024"
   ]
  },
  {
   "cell_type": "markdown",
   "metadata": {},
   "source": [
    "### Dataset"
   ]
  },
  {
   "cell_type": "code",
   "execution_count": 4,
   "metadata": {},
   "outputs": [],
   "source": [
    "class MedicalDataset(Dataset):\n",
    "    def __init__(self, images, masks, patch_size=32):\n",
    "        self.images = images\n",
    "        self.masks = masks\n",
    "        \n",
    "        self.patch_size = patch_size\n",
    "        \n",
    "        self.images_count, self.image_size, _, _ = self.images.shape\n",
    "        self.patches_per_side = self.image_size - self.patch_size + 1\n",
    "        self.patches_per_image = self.patches_per_side ** 2\n",
    "    \n",
    "    def __len__(self):\n",
    "        return self.images_count * self.patches_per_image\n",
    "    \n",
    "    def __getitem__(self, idx):\n",
    "        image_idx = idx // self.patches_per_image\n",
    "        patch_idx = idx % self.patches_per_image\n",
    "        \n",
    "        image = self.images[image_idx]\n",
    "        mask = self.masks[image_idx]\n",
    "        \n",
    "        y = patch_idx // self.patches_per_side\n",
    "        x = patch_idx % self.patches_per_side\n",
    "        \n",
    "        patch = image[y: y + self.patch_size, x: x + self.patch_size].transpose(2, 0, 1) / 255.\n",
    "        label = mask.item((y + self.patch_size // 2, x + self.patch_size // 2, 0)) // 255\n",
    "        \n",
    "        return (patch, label)"
   ]
  },
  {
   "cell_type": "markdown",
   "metadata": {},
   "source": [
    "### Dataset statistics"
   ]
  },
  {
   "cell_type": "code",
   "execution_count": 5,
   "metadata": {},
   "outputs": [],
   "source": [
    "patch_size = 22\n",
    "dataset = 'train'\n",
    "batch_size = 2**12"
   ]
  },
  {
   "cell_type": "code",
   "execution_count": 6,
   "metadata": {},
   "outputs": [],
   "source": [
    "with h5py.File(MEDICAL_DATA, 'r') as f:\n",
    "        images = f[dataset]['images'][...]\n",
    "        masks = f[dataset]['masks'][...]\n",
    "\n",
    "dataset = MedicalDataset(images, masks, patch_size=patch_size)"
   ]
  },
  {
   "cell_type": "code",
   "execution_count": null,
   "metadata": {},
   "outputs": [],
   "source": [
    "loader = DataLoader(dataset, batch_size=2**14, num_workers=8)\n",
    "\n",
    "negative_data_sums = []\n",
    "positive_data_sums = []\n",
    "\n",
    "for i, (data, labels) in enumerate(loader):\n",
    "    batch_sum = data.reshape(data.shape[0], -1).sum(1).data.numpy()\n",
    "    \n",
    "    positive_batch_sum = batch_sum[labels.nonzero().numpy()].ravel()\n",
    "    negative_batch_sum = batch_sum[(labels == 0).nonzero().numpy()].ravel()\n",
    "\n",
    "    positive_data_sums.extend([v.item() for v in positive_batch_sum])\n",
    "    negative_data_sums.extend([v.item() for v in negative_batch_sum])\n",
    "\n",
    "    if i % 500 == 0: print('[{:.3f}%]'.format(100. * i / len(loader)))"
   ]
  },
  {
   "cell_type": "code",
   "execution_count": 8,
   "metadata": {},
   "outputs": [],
   "source": [
    "negative_data_sums = np.load('/home/ath0m/Desktop/Medical/negative.npz.npy')\n",
    "positive_data_sums = np.load('/home/ath0m/Desktop/Medical/positive.npz.npy')"
   ]
  },
  {
   "cell_type": "code",
   "execution_count": 10,
   "metadata": {},
   "outputs": [
    {
     "data": {
      "image/png": "[encoded data removed]",
      "text/plain": [
       "<Figure size 648x360 with 2 Axes>"
      ]
     },
     "metadata": {
      "needs_background": "light"
     },
     "output_type": "display_data"
    }
   ],
   "source": [
    "gs = GridSpec(3, 1)\n",
    "\n",
    "fig = plt.figure(figsize=(9, 5))\n",
    "\n",
    "ax1 = fig.add_subplot(gs[:2])\n",
    "ax2 = fig.add_subplot(gs[2], sharex=ax1)\n",
    "\n",
    "ax1.ticklabel_format(style='sci', axis='y', scilimits=(0,0))\n",
    "\n",
    "ax1.hist(negative_data_sums, bins=200, label='negative')\n",
    "ax1.grid(True, lw=0.3)\n",
    "\n",
    "ax2.hist(positive_data_sums, color='#DD8452', bins=200, label='positive')\n",
    "ax2.grid(True, lw=0.3)\n",
    "\n",
    "ax1.set_xticks(range(0, 1000, 100))\n",
    "ax2.invert_yaxis()\n",
    "\n",
    "ax2.set_yticks(ax2.get_yticks()[1:])\n",
    "\n",
    "ax1.set_title('Sum of image pixels')\n",
    "\n",
    "fig.legend(loc=(0.85, 0.83))\n",
    "fig.tight_layout()\n",
    "fig.subplots_adjust(hspace=0.0)\n",
    "\n",
    "plt.show()"
   ]
  },
  {
   "cell_type": "code",
   "execution_count": 29,
   "metadata": {},
   "outputs": [
    {
     "data": {
      "image/png": "[encoded data removed]",
      "text/plain": [
       "<Figure size 1080x576 with 1 Axes>"
      ]
     },
     "metadata": {
      "needs_background": "light"
     },
     "output_type": "display_data"
    }
   ],
   "source": [
    "plt.figure(figsize=(15, 8))\n",
    "\n",
    "plt.hist(negative_data_sums, bins=200, label='negatywne', density=True, alpha=0.7, histtype='stepfilled')\n",
    "plt.hist(positive_data_sums, bins=200, label='pozytywne', density=True, alpha=0.7, histtype='stepfilled')\n",
    "\n",
    "plt.axvline(min(positive_data_sums), ls='--', lw=3., color='#DD8452', label='minimalna wartość dla pozytywnych')\n",
    "\n",
    "plt.grid(True, ls='--')\n",
    "plt.legend(fontsize=14)\n",
    "plt.title('Suma pikseli w obrazkach', fontsize=14)\n",
    "\n",
    "plt.show()"
   ]
  },
  {
   "cell_type": "code",
   "execution_count": 8,
   "metadata": {},
   "outputs": [
    {
     "data": {
      "text/plain": [
       "56.5019607843137"
      ]
     },
     "execution_count": 8,
     "metadata": {},
     "output_type": "execute_result"
    }
   ],
   "source": [
    "min(positive_data_sums)"
   ]
  },
  {
   "cell_type": "code",
   "execution_count": 12,
   "metadata": {},
   "outputs": [
    {
     "data": {
      "text/plain": [
       "0.45547378478948297"
      ]
     },
     "execution_count": 12,
     "metadata": {},
     "output_type": "execute_result"
    }
   ],
   "source": [
    "(np.array(negative_data_sums) < 42).sum() / len(negative_data_sums)"
   ]
  },
  {
   "cell_type": "code",
   "execution_count": null,
   "metadata": {},
   "outputs": [],
   "source": []
  }
 ],
 "metadata": {
  "kernelspec": {
   "display_name": "Python 3",
   "language": "python",
   "name": "python3"
  },
  "language_info": {
   "codemirror_mode": {
    "name": "ipython",
    "version": 3
   },
   "file_extension": ".py",
   "mimetype": "text/x-python",
   "name": "python",
   "nbconvert_exporter": "python",
   "pygments_lexer": "ipython3",
   "version": "3.6.6"
  }
 },
 "nbformat": 4,
 "nbformat_minor": 2
}
