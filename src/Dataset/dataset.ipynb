{
 "cells": [
  {
   "cell_type": "markdown",
   "metadata": {},
   "source": [
    "### Import packages"
   ]
  },
  {
   "cell_type": "code",
   "execution_count": 8,
   "metadata": {
    "collapsed": false,
    "inputHidden": false,
    "outputHidden": false
   },
   "outputs": [],
   "source": [
    "import numpy as np\n",
    "import matplotlib.pyplot as plt\n",
    "import ipywidgets as widgets\n",
    "\n",
    "import os\n",
    "from random import shuffle\n",
    "from PIL import Image\n",
    "import h5py"
   ]
  },
  {
   "cell_type": "markdown",
   "metadata": {},
   "source": [
    "### Parameters"
   ]
  },
  {
   "cell_type": "code",
   "execution_count": 9,
   "metadata": {},
   "outputs": [],
   "source": [
    "MEDICAL_DATA = '/pio/lscratch/1/i279076/Medical/LGG-segmentation/'\n",
    "TEST_SLICE = 0.3\n",
    "\n",
    "MEDICAL_DATA_DEST = '/pio/lscratch/1/i279076/Medical/medical_v2.h5'"
   ]
  },
  {
   "cell_type": "markdown",
   "metadata": {},
   "source": [
    "### Prepare basic dataset"
   ]
  },
  {
   "cell_type": "code",
   "execution_count": 17,
   "metadata": {},
   "outputs": [
    {
     "name": "stdout",
     "output_type": "stream",
     "text": [
      "train: 0.7% (77), test: 0.3% (33)\n"
     ]
    }
   ],
   "source": [
    "patients = []\n",
    "\n",
    "for patient in os.listdir(MEDICAL_DATA):\n",
    "    patient_path = os.path.join(MEDICAL_DATA, patient)\n",
    "    \n",
    "    if os.path.isdir(patient_path):\n",
    "        patients.append(patient_path)\n",
    "\n",
    "shuffle(patients)\n",
    "test_slice = int(len(patients) * TEST_SLICE)\n",
    "\n",
    "test_patients, train_patients = patients[:test_slice], patients[test_slice:]\n",
    "\n",
    "test_patients = [(patient, 'test') for patient in test_patients]\n",
    "train_patients = [(patient, 'train') for patient in train_patients]\n",
    "\n",
    "train_amount, test_amount = len(train_patients), len(test_patients)\n",
    "all_amount = train_amount + test_amount\n",
    "print('train: {:.2}% ({}), test: {:.2}% ({})'.format(train_amount / all_amount, train_amount, test_amount / all_amount, test_amount))"
   ]
  },
  {
   "cell_type": "code",
   "execution_count": 18,
   "metadata": {},
   "outputs": [],
   "source": [
    "patients_with_dest = test_patients + train_patients\n",
    "files_with_dest = []\n",
    "\n",
    "for i, (patient, dest) in enumerate(patients_with_dest):\n",
    "    for filename in os.listdir(patient):\n",
    "        if filename.endswith('_mask.tif'):\n",
    "            mask_path = os.path.join(patient, filename)\n",
    "            files_with_dest.append((mask_path, dest, i))"
   ]
  },
  {
   "cell_type": "code",
   "execution_count": 19,
   "metadata": {},
   "outputs": [
    {
     "name": "stdout",
     "output_type": "stream",
     "text": [
      "train: 0.7% (2767), test: 0.3% (1162)\n"
     ]
    }
   ],
   "source": [
    "train_files = list(filter(lambda file: file[1] == 'train', files_with_dest))\n",
    "test_files = list(filter(lambda file: file[1] == 'test', files_with_dest))\n",
    "\n",
    "train_amount, test_amount = len(train_files), len(test_files)\n",
    "all_amount = train_amount + test_amount\n",
    "\n",
    "print('train: {:.2}% ({}), test: {:.2}% ({})'.format(train_amount / all_amount, train_amount, test_amount / all_amount, test_amount))"
   ]
  },
  {
   "cell_type": "code",
   "execution_count": 20,
   "metadata": {},
   "outputs": [],
   "source": [
    "train_data, test_data = [], []\n",
    "\n",
    "for file, dest, i in files_with_dest:\n",
    "    mask = np.array(Image.open(file))[:, :, None]\n",
    "    \n",
    "    image_path = file.replace('_mask', '')\n",
    "    image = np.array(Image.open(image_path))\n",
    "    \n",
    "    destination = train_data if dest == 'train' else test_data\n",
    "    destination.append((image, mask, i))"
   ]
  },
  {
   "cell_type": "code",
   "execution_count": 27,
   "metadata": {},
   "outputs": [
    {
     "name": "stdout",
     "output_type": "stream",
     "text": [
      "Train images shape:  (2767, 256, 256, 3) masks shape:  (2767, 256, 256, 1)\n",
      "Test images shape:  (1162, 256, 256, 3) masks shape:  (1162, 256, 256, 1)\n"
     ]
    }
   ],
   "source": [
    "train_images, train_masks, train_patients = zip(*train_data)\n",
    "test_images, test_masks, test_patients = zip(*test_data)\n",
    "\n",
    "train_images, train_masks = np.array(train_images) / 255.0, np.array(train_masks) // 255\n",
    "test_images, test_masks = np.array(test_images) / 255.0, np.array(test_masks) // 255\n",
    "\n",
    "print('Train images shape: ', train_images.shape, 'masks shape: ', train_masks.shape)\n",
    "print('Test images shape: ', test_images.shape, 'masks shape: ', test_masks.shape)"
   ]
  },
  {
   "cell_type": "code",
   "execution_count": 28,
   "metadata": {},
   "outputs": [],
   "source": [
    "with h5py.File(MEDICAL_DATA_DEST, 'a') as f:\n",
    "    f.create_dataset('train/images', data=train_images, compression=\"gzip\")\n",
    "    f.create_dataset('train/masks', data=train_masks, compression=\"gzip\")\n",
    "    f.create_dataset('train/patients', data=train_patients, compression=\"gzip\")\n",
    "    \n",
    "    f.create_dataset('test/images', data=test_images, compression=\"gzip\")\n",
    "    f.create_dataset('test/masks', data=test_masks, compression=\"gzip\")\n",
    "    f.create_dataset('test/patients', data=test_patients, compression=\"gzip\")"
   ]
  }
 ],
 "metadata": {
  "kernelspec": {
   "display_name": "Python 3",
   "language": "python",
   "name": "python3"
  },
  "language_info": {
   "codemirror_mode": {
    "name": "ipython",
    "version": 3
   },
   "file_extension": ".py",
   "mimetype": "text/x-python",
   "name": "python",
   "nbconvert_exporter": "python",
   "pygments_lexer": "ipython3",
   "version": "3.6.6"
  }
 },
 "nbformat": 4,
 "nbformat_minor": 2
}
