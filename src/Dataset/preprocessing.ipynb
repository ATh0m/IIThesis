{
 "cells": [
  {
   "cell_type": "markdown",
   "metadata": {},
   "source": [
    "### Import packages"
   ]
  },
  {
   "cell_type": "code",
   "execution_count": 1,
   "metadata": {
    "collapsed": false,
    "inputHidden": false,
    "outputHidden": false
   },
   "outputs": [],
   "source": [
    "import numpy as np\n",
    "import matplotlib.pyplot as plt\n",
    "import ipywidgets as widgets\n",
    "\n",
    "import os\n",
    "from random import shuffle\n",
    "from PIL import Image\n",
    "import h5py"
   ]
  },
  {
   "cell_type": "code",
   "execution_count": 2,
   "metadata": {},
   "outputs": [],
   "source": [
    "import torch\n",
    "from torch.utils.data import Dataset, DataLoader\n",
    "from torch.utils.data.sampler import SequentialSampler"
   ]
  },
  {
   "cell_type": "markdown",
   "metadata": {},
   "source": [
    "### Parameters"
   ]
  },
  {
   "cell_type": "code",
   "execution_count": 3,
   "metadata": {},
   "outputs": [],
   "source": [
    "MEDICAL_DATA = '/net/archive/groups/plggneurony/swilczyn/medical/datasets/medical-4channels-cropped.h5'\n",
    "\n",
    "BATCH_SIZE = 1024"
   ]
  },
  {
   "cell_type": "markdown",
   "metadata": {},
   "source": [
    "### Dataset"
   ]
  },
  {
   "cell_type": "code",
   "execution_count": 4,
   "metadata": {},
   "outputs": [],
   "source": [
    "class MedicalDataset(Dataset):\n",
    "    def __init__(self, images, masks, patch_size=32):\n",
    "        self.images = images\n",
    "        self.masks = masks\n",
    "        \n",
    "        self.patch_size = patch_size\n",
    "        \n",
    "        self.images_count, self.image_size, _, _ = self.images.shape\n",
    "        self.patches_per_side = self.image_size - self.patch_size + 1\n",
    "        self.patches_per_image = self.patches_per_side ** 2\n",
    "    \n",
    "    def __len__(self):\n",
    "        return self.images_count * self.patches_per_image\n",
    "    \n",
    "    def __getitem__(self, idx):\n",
    "        image_idx = idx // self.patches_per_image\n",
    "        patch_idx = idx % self.patches_per_image\n",
    "        \n",
    "        image = self.images[image_idx]\n",
    "        mask = self.masks[image_idx]\n",
    "        \n",
    "        y = patch_idx // self.patches_per_side\n",
    "        x = patch_idx % self.patches_per_side\n",
    "        \n",
    "        patch = image[y: y + self.patch_size, x: x + self.patch_size].transpose(2, 0, 1)\n",
    "        label = mask.item((y + self.patch_size // 2, x + self.patch_size // 2, 0))\n",
    "        \n",
    "        return (patch, label)"
   ]
  },
  {
   "cell_type": "markdown",
   "metadata": {},
   "source": [
    "### Patches preprocessing"
   ]
  },
  {
   "cell_type": "code",
   "execution_count": 5,
   "metadata": {
    "slideshow": {
     "slide_type": "-"
    }
   },
   "outputs": [],
   "source": [
    "def preprocess_patches(dest, patch_size):\n",
    "    with h5py.File(MEDICAL_DATA, 'r') as f:\n",
    "        images = f[dest]['images'][...]\n",
    "        masks = f[dest]['masks'][...]\n",
    "        \n",
    "    dataset = MedicalDataset(images, masks, patch_size=patch_size)\n",
    "    loader = DataLoader(dataset, batch_size=BATCH_SIZE, num_workers=8, sampler=SequentialSampler(dataset))\n",
    "    \n",
    "    patches_labels = torch.zeros(len(dataset), dtype=torch.int64)\n",
    "\n",
    "    progress = widgets.IntProgress(max=len(loader))\n",
    "    display(progress)\n",
    "\n",
    "    for i, data in enumerate(loader):\n",
    "        _, labels = data\n",
    "\n",
    "        patches_labels[BATCH_SIZE * i: BATCH_SIZE * i + len(labels)] = labels\n",
    "\n",
    "        progress.value += 1\n",
    "        progress.description = '{:.3f} %'.format(100. * progress.value / progress.max)\n",
    "        \n",
    "    targets = patches_labels.numpy()\n",
    "\n",
    "    positive_indices = targets.nonzero()[0]\n",
    "    negative_indices = np.where(targets == 0)[0]\n",
    "        \n",
    "    with h5py.File(MEDICAL_DATA, 'a') as f:\n",
    "        positives_save_dest = '{}/patches/{}/positives'.format(dest, patch_size)\n",
    "        negatives_save_dest = '{}/patches/{}/negatives'.format(dest, patch_size)\n",
    "        \n",
    "        if positives_save_dest in f:\n",
    "            del f[positives_save_dest]\n",
    "            \n",
    "        if negatives_save_dest in f:\n",
    "            del f[negatives_save_dest]\n",
    "        \n",
    "        f.create_dataset(positives_save_dest, data=positive_indices, compression=\"gzip\")\n",
    "        f.create_dataset(negatives_save_dest, data=negative_indices, compression=\"gzip\")"
   ]
  },
  {
   "cell_type": "code",
   "execution_count": 6,
   "metadata": {},
   "outputs": [
    {
     "name": "stdout",
     "output_type": "stream",
     "text": [
      "Processing train set with patch size 22\n"
     ]
    },
    {
     "data": {
      "application/vnd.jupyter.widget-view+json": {
       "model_id": "1335124e96154af1882cb0bd9e3513cb",
       "version_major": 2,
       "version_minor": 0
      },
      "text/plain": [
       "IntProgress(value=0, max=52888)"
      ]
     },
     "metadata": {},
     "output_type": "display_data"
    },
    {
     "name": "stdout",
     "output_type": "stream",
     "text": [
      "Processing test set with patch size 22\n"
     ]
    },
    {
     "data": {
      "application/vnd.jupyter.widget-view+json": {
       "model_id": "c4aead824adc405ea8859245a20c9eeb",
       "version_major": 2,
       "version_minor": 0
      },
      "text/plain": [
       "IntProgress(value=0, max=21246)"
      ]
     },
     "metadata": {},
     "output_type": "display_data"
    }
   ],
   "source": [
    "for patch_size in [22]:\n",
    "    for dest in ['train', 'test']:\n",
    "        print('Processing {} set with patch size {}'.format(dest, patch_size))\n",
    "        preprocess_patches(dest=dest, patch_size=patch_size)"
   ]
  },
  {
   "cell_type": "markdown",
   "metadata": {},
   "source": [
    "### Prepare validation set"
   ]
  },
  {
   "cell_type": "code",
   "execution_count": 5,
   "metadata": {},
   "outputs": [],
   "source": [
    "def create_validation_set(patch_size, test_slice=0.05):\n",
    "    with h5py.File(MEDICAL_DATA, 'r') as f:\n",
    "        test_positive_indices = f['test']['patches'][str(patch_size)]['positives'][...]\n",
    "        test_negative_indices = f['test']['patches'][str(patch_size)]['negatives'][...]\n",
    "\n",
    "        test_images = f['test']['images'][...]\n",
    "        test_masks = f['test']['masks'][...]\n",
    "        \n",
    "    test_dataset = MedicalDataset(test_images, test_masks, patch_size=patch_size)\n",
    "        \n",
    "    samples = 2**int(np.log2(test_positive_indices.shape[0] * test_slice))\n",
    "\n",
    "    val_positive_indices = np.random.choice(test_positive_indices, size=samples, replace=False)\n",
    "    val_negative_indices = np.random.choice(test_negative_indices, size=samples, replace=False)\n",
    "\n",
    "    print('Validation positive samples: {}'.format(val_positive_indices.shape[0]))\n",
    "    print('Validation negative samples: {}'.format(val_negative_indices.shape[0]))\n",
    "    \n",
    "    val_indices = np.hstack([val_positive_indices, val_negative_indices])\n",
    "    np.random.shuffle(val_indices)\n",
    "    \n",
    "    val_patches, val_labels = [], []\n",
    "\n",
    "    for i in val_indices:\n",
    "        patch, label = test_dataset[i]\n",
    "\n",
    "        val_patches.append(patch.transpose(1, 2, 0))\n",
    "        val_labels.append(label)\n",
    "\n",
    "    val_patches = np.array(val_patches)\n",
    "    val_labels = np.array(val_labels)\n",
    "\n",
    "    print('Validation patches: {}, {}'.format(val_patches.shape, val_patches.dtype))\n",
    "    print('Validation labels: {}, {}'.format(val_labels.shape, val_labels.dtype))\n",
    "    print('Validation indices: {}, {}'.format(val_indices.shape, val_indices.dtype))\n",
    "    \n",
    "    with h5py.File(MEDICAL_DATA, 'a') as f:\n",
    "        val_indices_save_dest = 'validation/patches/{}/indices'.format(patch_size)\n",
    "        val_patches_save_dest = 'validation/patches/{}/patches'.format(patch_size)\n",
    "        val_labels_save_dest = 'validation/patches/{}/labels'.format(patch_size)\n",
    "        \n",
    "        if val_indices_save_dest in f:\n",
    "            del f[val_indices_save_dest]\n",
    "        \n",
    "        if val_patches_save_dest in f:\n",
    "            del f[val_patches_save_dest]\n",
    "            \n",
    "        if val_labels_save_dest in f:\n",
    "            del f[val_labels_save_dest]\n",
    "        \n",
    "        f.create_dataset(val_indices_save_dest, data=val_indices, compression=\"gzip\")\n",
    "        f.create_dataset(val_patches_save_dest, data=val_patches, compression=\"gzip\")\n",
    "        f.create_dataset(val_labels_save_dest, data=val_labels, compression=\"gzip\")"
   ]
  },
  {
   "cell_type": "code",
   "execution_count": 6,
   "metadata": {},
   "outputs": [
    {
     "name": "stdout",
     "output_type": "stream",
     "text": [
      "Creating validation set for patch size 28\n",
      "Validation positive samples: 32768\n",
      "Validation negative samples: 32768\n",
      "Validation patches: (65536, 28, 28, 3), float64\n",
      "Validation labels: (65536,), int64\n",
      "Validation indices: (65536,), int64\n"
     ]
    }
   ],
   "source": [
    "for patch_size in [28]:\n",
    "    print('Creating validation set for patch size {}'.format(patch_size))\n",
    "    create_validation_set(patch_size, test_slice=0.05)"
   ]
  },
  {
   "cell_type": "code",
   "execution_count": null,
   "metadata": {},
   "outputs": [],
   "source": []
  }
 ],
 "metadata": {
  "kernel_info": {
   "name": "medical"
  },
  "kernelspec": {
   "display_name": "Python 3",
   "language": "python",
   "name": "python3"
  },
  "language_info": {
   "codemirror_mode": {
    "name": "ipython",
    "version": 3
   },
   "file_extension": ".py",
   "mimetype": "text/x-python",
   "name": "python",
   "nbconvert_exporter": "python",
   "pygments_lexer": "ipython3",
   "version": "3.6.6"
  },
  "nteract": {
   "version": "0.11.9"
  },
  "toc-autonumbering": false,
  "toc-showcode": true,
  "toc-showmarkdowntxt": true,
  "toc-showtags": false
 },
 "nbformat": 4,
 "nbformat_minor": 4
}
